{
 "cells": [
  {
   "cell_type": "code",
   "execution_count": 1,
   "metadata": {
    "_cell_guid": "b1076dfc-b9ad-4769-8c92-a6c4dae69d19",
    "_uuid": "8f2839f25d086af736a60e9eeb907d3b93b6e0e5",
    "collapsed": true
   },
   "outputs": [],
   "source": [
    "%matplotlib inline\n",
    "from fastai.basics import *"
   ]
  },
  {
   "cell_type": "code",
   "execution_count": 2,
   "metadata": {
    "_cell_guid": "79c7e3d0-c299-4dcb-8224-4455121ee9b0",
    "_uuid": "d629ff2d2480ee46fbb7e2d37f6b5fab8052498a",
    "collapsed": true
   },
   "outputs": [],
   "source": [
    "# number of rows\n",
    "n=100"
   ]
  },
  {
   "cell_type": "code",
   "execution_count": 3,
   "metadata": {
    "_uuid": "596bc1a5060741f46471f47911e618ccafb50a19"
   },
   "outputs": [
    {
     "data": {
      "text/plain": [
       "tensor([[1., 1.],\n",
       "        [1., 1.],\n",
       "        [1., 1.],\n",
       "        [1., 1.],\n",
       "        [1., 1.]])"
      ]
     },
     "execution_count": 3,
     "metadata": {},
     "output_type": "execute_result"
    }
   ],
   "source": [
    "# create a tensor with n rows and 2 cols\n",
    "# all the values in this tensor will be 1s\n",
    "x = torch.ones(n,2) \n",
    "x[:5]"
   ]
  },
  {
   "cell_type": "code",
   "execution_count": 4,
   "metadata": {
    "_uuid": "24ebd2758d8a99a977d35caf1ea2a77e0b2f2824"
   },
   "outputs": [
    {
     "data": {
      "text/plain": [
       "tensor([[-0.9363,  1.0000],\n",
       "        [-0.3646,  1.0000],\n",
       "        [ 0.6943,  1.0000],\n",
       "        [ 0.4442,  1.0000],\n",
       "        [-0.2312,  1.0000]])"
      ]
     },
     "execution_count": 4,
     "metadata": {},
     "output_type": "execute_result"
    }
   ],
   "source": [
    "# fill the first col with uniform values b/w -1 and 1\n",
    "x[:,0].uniform_(-1.,1)\n",
    "x[:5]"
   ]
  },
  {
   "cell_type": "code",
   "execution_count": 5,
   "metadata": {
    "_uuid": "7cd3b9b6af1342d53a87c4f7d89f13dc9bff496d"
   },
   "outputs": [
    {
     "data": {
      "text/plain": [
       "tensor([3., 2.])"
      ]
     },
     "execution_count": 5,
     "metadata": {},
     "output_type": "execute_result"
    }
   ],
   "source": [
    "# initialize the coefficients\n",
    "a = tensor(3.,2); a"
   ]
  },
  {
   "cell_type": "code",
   "execution_count": 6,
   "metadata": {
    "_uuid": "40632470276929bb954a5038afaad19fc6eb3103",
    "collapsed": true
   },
   "outputs": [],
   "source": [
    "# tensor multiplication and add a little randomness to it\n",
    "y = x@a + torch.rand(n)"
   ]
  },
  {
   "cell_type": "code",
   "execution_count": 7,
   "metadata": {
    "_uuid": "e97c02e25d7f96f2bcd83c037ab8c380572f5347"
   },
   "outputs": [
    {
     "data": {
      "image/png": "[encoded data removed]",
      "text/plain": [
       "<Figure size 432x288 with 1 Axes>"
      ]
     },
     "metadata": {},
     "output_type": "display_data"
    }
   ],
   "source": [
    "plt.scatter(x[:,0], y);"
   ]
  },
  {
   "cell_type": "code",
   "execution_count": 8,
   "metadata": {
    "_uuid": "13e0002676bb0b0d999f52a3ab82c3fdbedbbedf",
    "collapsed": true
   },
   "outputs": [],
   "source": [
    "def mse(y_hat, y): return ((y_hat - y) ** 2).mean()"
   ]
  },
  {
   "cell_type": "code",
   "execution_count": 9,
   "metadata": {
    "_uuid": "8785b663e079f867d917ad5c4aabc33203f92f85",
    "collapsed": true
   },
   "outputs": [],
   "source": [
    "# now we want to find a1 and a2 i.e tensor a in such a way\n",
    "# that the line we draw minimizes the error or the loss function\n",
    "# which in this case is the mse"
   ]
  },
  {
   "cell_type": "code",
   "execution_count": 11,
   "metadata": {
    "_uuid": "3da2817677bc9409a9ca9533ee49bb0d5ec04021",
    "collapsed": true
   },
   "outputs": [],
   "source": [
    "# let's start with an initial value of -1,1\n",
    "# note that all numbers need to be floating point\n",
    "a = tensor(-1.,1)"
   ]
  },
  {
   "cell_type": "code",
   "execution_count": 12,
   "metadata": {
    "_uuid": "b2e415d001712ed7ae459165afe910a44fb4597d"
   },
   "outputs": [
    {
     "data": {
      "text/plain": [
       "tensor(8.4964)"
      ]
     },
     "execution_count": 12,
     "metadata": {},
     "output_type": "execute_result"
    }
   ],
   "source": [
    "# we calculate our predictions and mse\n",
    "y_hat = x@a\n",
    "mse(y_hat, y)"
   ]
  },
  {
   "cell_type": "code",
   "execution_count": 14,
   "metadata": {
    "_uuid": "686bb111f4f50ea4935bb2e79c94ca0ac164791a"
   },
   "outputs": [
    {
     "data": {
      "image/png": "[encoded data removed]",
      "text/plain": [
       "<Figure size 432x288 with 1 Axes>"
      ]
     },
     "metadata": {},
     "output_type": "display_data"
    }
   ],
   "source": [
    "plt.scatter(x[:,0], y);\n",
    "plt.scatter(x[:,0],y_hat);"
   ]
  },
  {
   "cell_type": "code",
   "execution_count": 15,
   "metadata": {
    "_uuid": "0d4d38f419532f33a8642f58d6f36ff01aa37671",
    "collapsed": true
   },
   "outputs": [],
   "source": [
    "# the line is horribly wrong"
   ]
  },
  {
   "cell_type": "code",
   "execution_count": 16,
   "metadata": {
    "_uuid": "01da08c484bbba6a95a987ce52926b3616512589",
    "collapsed": true
   },
   "outputs": [],
   "source": [
    "# we have our model (linear regression) and we have\n",
    "# our evalution metrics i.e mse. Now we need a way\n",
    "# to optimize that i.e. to find the best line\n"
   ]
  },
  {
   "cell_type": "code",
   "execution_count": 17,
   "metadata": {
    "_uuid": "af73c7b1d7da56be1f84f8d800b080d226cbecc1"
   },
   "outputs": [
    {
     "data": {
      "text/plain": [
       "Parameter containing:\n",
       "tensor([-1.,  1.], requires_grad=True)"
      ]
     },
     "execution_count": 17,
     "metadata": {},
     "output_type": "execute_result"
    }
   ],
   "source": [
    "# this is where gradient descent comes into the picture\n",
    "a = nn.Parameter(a); a"
   ]
  },
  {
   "cell_type": "code",
   "execution_count": 18,
   "metadata": {
    "_uuid": "0d1deb1968d86faff42ef5a6e21a4fece47a3e14",
    "collapsed": true
   },
   "outputs": [],
   "source": [
    "# GD implemented in pytorch\n",
    "def update():\n",
    "    y_hat = x@a\n",
    "    loss = mse(y, y_hat)\n",
    "    if t % 10 == 0: print(loss)\n",
    "    loss.backward()\n",
    "    with torch.no_grad():\n",
    "        a.sub_(lr * a.grad)\n",
    "        a.grad.zero_()"
   ]
  },
  {
   "cell_type": "code",
   "execution_count": 19,
   "metadata": {
    "_uuid": "0bceb014a93e680b0466960f19c4ee6ec02352ce"
   },
   "outputs": [
    {
     "name": "stdout",
     "output_type": "stream",
     "text": [
      "tensor(8.4964, grad_fn=<MeanBackward1>)\n",
      "tensor(1.3811, grad_fn=<MeanBackward1>)\n",
      "tensor(0.3842, grad_fn=<MeanBackward1>)\n",
      "tensor(0.1588, grad_fn=<MeanBackward1>)\n",
      "tensor(0.1062, grad_fn=<MeanBackward1>)\n",
      "tensor(0.0940, grad_fn=<MeanBackward1>)\n",
      "tensor(0.0911, grad_fn=<MeanBackward1>)\n",
      "tensor(0.0904, grad_fn=<MeanBackward1>)\n",
      "tensor(0.0903, grad_fn=<MeanBackward1>)\n",
      "tensor(0.0902, grad_fn=<MeanBackward1>)\n"
     ]
    }
   ],
   "source": [
    "lr = 1e-1\n",
    "for t in range(100): update()"
   ]
  },
  {
   "cell_type": "code",
   "execution_count": 20,
   "metadata": {
    "_uuid": "7dfdf90b754c78d298779e207cd11f9d4942d1f1"
   },
   "outputs": [
    {
     "data": {
      "image/png": "[encoded data removed]",
      "text/plain": [
       "<Figure size 432x288 with 1 Axes>"
      ]
     },
     "metadata": {},
     "output_type": "display_data"
    }
   ],
   "source": [
    "# our error is now down to 0.09\n",
    "plt.scatter(x[:,0],y)\n",
    "plt.scatter(x[:,0],x@a);"
   ]
  },
  {
   "cell_type": "code",
   "execution_count": 23,
   "metadata": {
    "_uuid": "4d626e27527327d3d670a446af0827f2aadb2b50"
   },
   "outputs": [
    {
     "data": {
      "text/plain": [
       "Parameter containing:\n",
       "tensor([3.0153, 2.4955], requires_grad=True)"
      ]
     },
     "execution_count": 23,
     "metadata": {},
     "output_type": "execute_result"
    }
   ],
   "source": [
    "# the values of a1 and a2 as determined by our model\n",
    "a"
   ]
  },
  {
   "cell_type": "code",
   "execution_count": 28,
   "metadata": {
    "_uuid": "a5fa10c161d647e3868c1bf622e491e1bee45e92",
    "collapsed": true
   },
   "outputs": [],
   "source": [
    "# what would happen if our learning rate was too high\n",
    "a = tensor(-1.,1)"
   ]
  },
  {
   "cell_type": "code",
   "execution_count": 29,
   "metadata": {
    "_uuid": "4c09aa043a0fe3665048777dc0a3836aaf3e50a5"
   },
   "outputs": [
    {
     "data": {
      "text/plain": [
       "Parameter containing:\n",
       "tensor([-1.,  1.], requires_grad=True)"
      ]
     },
     "execution_count": 29,
     "metadata": {},
     "output_type": "execute_result"
    }
   ],
   "source": [
    "a = nn.Parameter(a); a"
   ]
  },
  {
   "cell_type": "code",
   "execution_count": 30,
   "metadata": {
    "_uuid": "f236c99ed95f32e05855075d41c6ad76b241f77f"
   },
   "outputs": [
    {
     "name": "stdout",
     "output_type": "stream",
     "text": [
      "tensor(8.4964, grad_fn=<MeanBackward1>)\n",
      "tensor(1.1270e+10, grad_fn=<MeanBackward1>)\n",
      "tensor(4.1934e+19, grad_fn=<MeanBackward1>)\n",
      "tensor(1.5602e+29, grad_fn=<MeanBackward1>)\n",
      "tensor(inf, grad_fn=<MeanBackward1>)\n",
      "tensor(inf, grad_fn=<MeanBackward1>)\n",
      "tensor(inf, grad_fn=<MeanBackward1>)\n",
      "tensor(inf, grad_fn=<MeanBackward1>)\n",
      "tensor(inf, grad_fn=<MeanBackward1>)\n",
      "tensor(nan, grad_fn=<MeanBackward1>)\n"
     ]
    }
   ],
   "source": [
    "lr = 2\n",
    "for t in range(100): update()"
   ]
  },
  {
   "cell_type": "code",
   "execution_count": 31,
   "metadata": {
    "_uuid": "d3adb5307b97838d33a664ade950e502ff504942",
    "collapsed": true
   },
   "outputs": [],
   "source": [
    "# the model keeps getting worse instead of getting better\n",
    "# and the error goes so high it is represented as inf"
   ]
  },
  {
   "cell_type": "code",
   "execution_count": 32,
   "metadata": {
    "_uuid": "97c987c0b91e141d03d55aa26080bf3b4ade9f5d"
   },
   "outputs": [
    {
     "data": {
      "text/plain": [
       "Parameter containing:\n",
       "tensor([-1.,  1.], requires_grad=True)"
      ]
     },
     "execution_count": 32,
     "metadata": {},
     "output_type": "execute_result"
    }
   ],
   "source": [
    "# learning rate too low\n",
    "a = tensor(-1.,1)\n",
    "a = nn.Parameter(a); a"
   ]
  },
  {
   "cell_type": "code",
   "execution_count": 35,
   "metadata": {
    "_uuid": "c7204007f967ba3b41aa49f197093380f197f717"
   },
   "outputs": [
    {
     "name": "stdout",
     "output_type": "stream",
     "text": [
      "tensor(8.4767, grad_fn=<MeanBackward1>)\n",
      "tensor(8.4571, grad_fn=<MeanBackward1>)\n",
      "tensor(8.4376, grad_fn=<MeanBackward1>)\n",
      "tensor(8.4181, grad_fn=<MeanBackward1>)\n",
      "tensor(8.3987, grad_fn=<MeanBackward1>)\n",
      "tensor(8.3793, grad_fn=<MeanBackward1>)\n",
      "tensor(8.3600, grad_fn=<MeanBackward1>)\n",
      "tensor(8.3408, grad_fn=<MeanBackward1>)\n",
      "tensor(8.3216, grad_fn=<MeanBackward1>)\n",
      "tensor(8.3024, grad_fn=<MeanBackward1>)\n"
     ]
    }
   ],
   "source": [
    "lr = 1e-4\n",
    "for t in range(100): update()"
   ]
  },
  {
   "cell_type": "code",
   "execution_count": 36,
   "metadata": {
    "_uuid": "68f423ff9da39a4692d56fd106287d2a7fa718de",
    "collapsed": true
   },
   "outputs": [],
   "source": [
    "# the error reduces very gradually\n",
    "# and would need a lot of epochs before learning well"
   ]
  },
  {
   "cell_type": "code",
   "execution_count": null,
   "metadata": {
    "_uuid": "d97449096c2996e197e7200fc4920fa989c3215f",
    "collapsed": true
   },
   "outputs": [],
   "source": []
  }
 ],
 "metadata": {
  "hide_input": false,
  "kernelspec": {
   "display_name": "Python 3",
   "language": "python",
   "name": "python3"
  },
  "language_info": {
   "codemirror_mode": {
    "name": "ipython",
    "version": 3
   },
   "file_extension": ".py",
   "mimetype": "text/x-python",
   "name": "python",
   "nbconvert_exporter": "python",
   "pygments_lexer": "ipython3",
   "version": "3.6.1"
  },
  "toc": {
   "base_numbering": 1,
   "nav_menu": {},
   "number_sections": true,
   "sideBar": true,
   "skip_h1_title": false,
   "title_cell": "Table of Contents",
   "title_sidebar": "Contents",
   "toc_cell": false,
   "toc_position": {},
   "toc_section_display": true,
   "toc_window_display": false
  },
  "varInspector": {
   "cols": {
    "lenName": 16,
    "lenType": 16,
    "lenVar": 40
   },
   "kernels_config": {
    "python": {
     "delete_cmd_postfix": "",
     "delete_cmd_prefix": "del ",
     "library": "var_list.py",
     "varRefreshCmd": "print(var_dic_list())"
    },
    "r": {
     "delete_cmd_postfix": ") ",
     "delete_cmd_prefix": "rm(",
     "library": "var_list.r",
     "varRefreshCmd": "cat(var_dic_list()) "
    }
   },
   "types_to_exclude": [
    "module",
    "function",
    "builtin_function_or_method",
    "instance",
    "_Feature"
   ],
   "window_display": false
  }
 },
 "nbformat": 4,
 "nbformat_minor": 1
}
