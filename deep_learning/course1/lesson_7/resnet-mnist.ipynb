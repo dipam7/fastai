{
 "cells": [
  {
   "cell_type": "code",
   "execution_count": 1,
   "metadata": {
    "_cell_guid": "b1076dfc-b9ad-4769-8c92-a6c4dae69d19",
    "_uuid": "8f2839f25d086af736a60e9eeb907d3b93b6e0e5"
   },
   "outputs": [
    {
     "name": "stdout",
     "output_type": "stream",
     "text": [
      "\n",
      "\n",
      "```text\n",
      "=== Software === \n",
      "python        : 3.6.6\n",
      "fastai        : 1.0.54\n",
      "fastprogress  : 0.1.21\n",
      "torch         : 1.1.0\n",
      "nvidia driver : 418.67\n",
      "torch cuda    : 10.0.130 / is available\n",
      "torch cudnn   : 7501 / is enabled\n",
      "\n",
      "=== Hardware === \n",
      "nvidia gpus   : 1\n",
      "torch devices : 1\n",
      "  - gpu0      : 16280MB | Tesla P100-PCIE-16GB\n",
      "\n",
      "=== Environment === \n",
      "platform      : Linux-4.9.0-8-amd64-x86_64-with-debian-9.9\n",
      "distro        : #1 SMP Debian 4.9.144-3.1 (2019-02-19)\n",
      "conda env     : Unknown\n",
      "python        : /opt/conda/bin/python\n",
      "sys.path      : /kaggle/lib/kagglegym\n",
      "/kaggle/lib\n",
      "/opt/conda/lib/python36.zip\n",
      "/opt/conda/lib/python3.6\n",
      "/opt/conda/lib/python3.6/lib-dynload\n",
      "\n",
      "/root/.local/lib/python3.6/site-packages\n",
      "/opt/conda/lib/python3.6/site-packages\n",
      "/opt/conda/lib/python3.6/site-packages/nolearn-0.6.1.dev0-py3.6.egg\n",
      "/opt/conda/lib/python3.6/site-packages/tabulate-0.8.3-py3.6.egg\n",
      "/opt/conda/lib/python3.6/site-packages/gdbn-0.1-py3.6.egg\n",
      "/opt/conda/lib/python3.6/site-packages/gnumpy-0.2-py3.6.egg\n",
      "/opt/conda/lib/python3.6/site-packages/PyBrain-0.3.3-py3.6.egg\n",
      "/opt/conda/lib/python3.6/site-packages/python_Levenshtein-0.12.0-py3.6-linux-x86_64.egg\n",
      "/opt/conda/lib/python3.6/site-packages/pyeconometrics-1.0.2-py3.6.egg\n",
      "/src/bq-helper\n",
      "/opt/conda/lib/python3.6/site-packages/IPython/extensions\n",
      "/tmp/.ipython\n",
      "\n",
      "Thu Jul 11 05:22:22 2019       \n",
      "+-----------------------------------------------------------------------------+\n",
      "| NVIDIA-SMI 418.67       Driver Version: 418.67       CUDA Version: 10.1     |\n",
      "|-------------------------------+----------------------+----------------------+\n",
      "| GPU  Name        Persistence-M| Bus-Id        Disp.A | Volatile Uncorr. ECC |\n",
      "| Fan  Temp  Perf  Pwr:Usage/Cap|         Memory-Usage | GPU-Util  Compute M. |\n",
      "|===============================+======================+======================|\n",
      "|   0  Tesla P100-PCIE...  On   | 00000000:00:04.0 Off |                    0 |\n",
      "| N/A   41C    P0    26W / 250W |      0MiB / 16280MiB |      0%      Default |\n",
      "+-------------------------------+----------------------+----------------------+\n",
      "                                                                               \n",
      "+-----------------------------------------------------------------------------+\n",
      "| Processes:                                                       GPU Memory |\n",
      "|  GPU       PID   Type   Process name                             Usage      |\n",
      "|=============================================================================|\n",
      "|  No running processes found                                                 |\n",
      "+-----------------------------------------------------------------------------+\n",
      "\n",
      "```\n",
      "\n",
      "Please make sure to include opening/closing ``` when you paste into forums/github to make the reports appear formatted as code sections.\n",
      "\n",
      "Optional package(s) to enhance the diagnostics can be installed with:\n",
      "pip install distro\n",
      "Once installed, re-run this utility to get the additional information\n"
     ]
    }
   ],
   "source": [
    "import fastai\n",
    "import fastai.utils.collect_env\n",
    "fastai.utils.collect_env.show_install(1)"
   ]
  },
  {
   "cell_type": "code",
   "execution_count": 2,
   "metadata": {},
   "outputs": [],
   "source": [
    "%matplotlib inline\n",
    "from fastai import *\n",
    "from fastai.vision import *"
   ]
  },
  {
   "cell_type": "code",
   "execution_count": 3,
   "metadata": {},
   "outputs": [],
   "source": [
    "path = untar_data(URLs.MNIST)"
   ]
  },
  {
   "cell_type": "code",
   "execution_count": 4,
   "metadata": {},
   "outputs": [
    {
     "data": {
      "text/plain": [
       "[PosixPath('/tmp/.fastai/data/mnist_png/training'),\n",
       " PosixPath('/tmp/.fastai/data/mnist_png/testing')]"
      ]
     },
     "execution_count": 4,
     "metadata": {},
     "output_type": "execute_result"
    }
   ],
   "source": [
    "path.ls()"
   ]
  },
  {
   "cell_type": "markdown",
   "metadata": {},
   "source": [
    "### Creating a data bunch, one line at a time"
   ]
  },
  {
   "cell_type": "code",
   "execution_count": 5,
   "metadata": {},
   "outputs": [],
   "source": [
    "# convert mode = 'L' stands for grayscale\n",
    "il = ImageList.from_folder(path, convert_mode='L')"
   ]
  },
  {
   "cell_type": "code",
   "execution_count": 6,
   "metadata": {},
   "outputs": [
    {
     "data": {
      "text/plain": [
       "PosixPath('/tmp/.fastai/data/mnist_png/training/2/26899.png')"
      ]
     },
     "execution_count": 6,
     "metadata": {},
     "output_type": "execute_result"
    }
   ],
   "source": [
    "il.items[0]"
   ]
  },
  {
   "cell_type": "code",
   "execution_count": 7,
   "metadata": {},
   "outputs": [],
   "source": [
    "# when we show() images it usually shows them in RGB color map\n",
    "# we need to set it to binary\n",
    "defaults.cmap='binary'"
   ]
  },
  {
   "cell_type": "code",
   "execution_count": 8,
   "metadata": {},
   "outputs": [
    {
     "data": {
      "text/plain": [
       "ImageList (70000 items)\n",
       "Image (1, 28, 28),Image (1, 28, 28),Image (1, 28, 28),Image (1, 28, 28),Image (1, 28, 28)\n",
       "Path: /tmp/.fastai/data/mnist_png"
      ]
     },
     "execution_count": 8,
     "metadata": {},
     "output_type": "execute_result"
    }
   ],
   "source": [
    "# images are 1,28,28 because PyTorch puts channels first and\n",
    "# we will be working with rank3 tensors later so it's easier to add\n",
    "# a unit axis from the start and keep\n",
    "il"
   ]
  },
  {
   "cell_type": "code",
   "execution_count": 9,
   "metadata": {},
   "outputs": [
    {
     "data": {
      "image/png": "[encoded data removed]",
      "text/plain": [
       "<Figure size 216x216 with 1 Axes>"
      ]
     },
     "metadata": {
      "needs_background": "light"
     },
     "output_type": "display_data"
    }
   ],
   "source": [
    "il[0].show()"
   ]
  },
  {
   "cell_type": "code",
   "execution_count": 10,
   "metadata": {},
   "outputs": [],
   "source": [
    "sd = il.split_by_folder(train='training', valid='testing')"
   ]
  },
  {
   "cell_type": "code",
   "execution_count": 11,
   "metadata": {},
   "outputs": [
    {
     "data": {
      "text/plain": [
       "ItemLists;\n",
       "\n",
       "Train: ImageList (60000 items)\n",
       "Image (1, 28, 28),Image (1, 28, 28),Image (1, 28, 28),Image (1, 28, 28),Image (1, 28, 28)\n",
       "Path: /tmp/.fastai/data/mnist_png;\n",
       "\n",
       "Valid: ImageList (10000 items)\n",
       "Image (1, 28, 28),Image (1, 28, 28),Image (1, 28, 28),Image (1, 28, 28),Image (1, 28, 28)\n",
       "Path: /tmp/.fastai/data/mnist_png;\n",
       "\n",
       "Test: None"
      ]
     },
     "execution_count": 11,
     "metadata": {},
     "output_type": "execute_result"
    }
   ],
   "source": [
    "sd"
   ]
  },
  {
   "cell_type": "code",
   "execution_count": 12,
   "metadata": {},
   "outputs": [
    {
     "data": {
      "text/plain": [
       "[PosixPath('/tmp/.fastai/data/mnist_png/training/2'),\n",
       " PosixPath('/tmp/.fastai/data/mnist_png/training/8'),\n",
       " PosixPath('/tmp/.fastai/data/mnist_png/training/4'),\n",
       " PosixPath('/tmp/.fastai/data/mnist_png/training/7'),\n",
       " PosixPath('/tmp/.fastai/data/mnist_png/training/5'),\n",
       " PosixPath('/tmp/.fastai/data/mnist_png/training/6'),\n",
       " PosixPath('/tmp/.fastai/data/mnist_png/training/0'),\n",
       " PosixPath('/tmp/.fastai/data/mnist_png/training/1'),\n",
       " PosixPath('/tmp/.fastai/data/mnist_png/training/9'),\n",
       " PosixPath('/tmp/.fastai/data/mnist_png/training/3')]"
      ]
     },
     "execution_count": 12,
     "metadata": {},
     "output_type": "execute_result"
    }
   ],
   "source": [
    "(path/'training').ls()"
   ]
  },
  {
   "cell_type": "code",
   "execution_count": 13,
   "metadata": {},
   "outputs": [],
   "source": [
    "ll = sd.label_from_folder()"
   ]
  },
  {
   "cell_type": "code",
   "execution_count": 14,
   "metadata": {},
   "outputs": [
    {
     "data": {
      "text/plain": [
       "LabelLists;\n",
       "\n",
       "Train: LabelList (60000 items)\n",
       "x: ImageList\n",
       "Image (1, 28, 28),Image (1, 28, 28),Image (1, 28, 28),Image (1, 28, 28),Image (1, 28, 28)\n",
       "y: CategoryList\n",
       "2,2,2,2,2\n",
       "Path: /tmp/.fastai/data/mnist_png;\n",
       "\n",
       "Valid: LabelList (10000 items)\n",
       "x: ImageList\n",
       "Image (1, 28, 28),Image (1, 28, 28),Image (1, 28, 28),Image (1, 28, 28),Image (1, 28, 28)\n",
       "y: CategoryList\n",
       "2,2,2,2,2\n",
       "Path: /tmp/.fastai/data/mnist_png;\n",
       "\n",
       "Test: None"
      ]
     },
     "execution_count": 14,
     "metadata": {},
     "output_type": "execute_result"
    }
   ],
   "source": [
    "ll"
   ]
  },
  {
   "cell_type": "code",
   "execution_count": 15,
   "metadata": {},
   "outputs": [],
   "source": [
    "x,y = ll.train[0]"
   ]
  },
  {
   "cell_type": "code",
   "execution_count": 16,
   "metadata": {},
   "outputs": [
    {
     "data": {
      "image/png": "[encoded data removed]",
      "text/plain": [
       "<Figure size 216x216 with 1 Axes>"
      ]
     },
     "metadata": {
      "needs_background": "light"
     },
     "output_type": "display_data"
    }
   ],
   "source": [
    "x.show()"
   ]
  },
  {
   "cell_type": "code",
   "execution_count": 17,
   "metadata": {},
   "outputs": [
    {
     "data": {
      "text/plain": [
       "Category 2"
      ]
     },
     "execution_count": 17,
     "metadata": {},
     "output_type": "execute_result"
    }
   ],
   "source": [
    "y"
   ]
  },
  {
   "cell_type": "code",
   "execution_count": 18,
   "metadata": {},
   "outputs": [],
   "source": [
    "# we don't do the normal transforms cuz flipping or rotating will change the meaning\n",
    "# we also avoid zooms and crops because the images are small\n",
    "# the empty list at the end means no transforms on the validation set\n",
    "tfms = ([*rand_pad(padding=3, size=28, mode='zeros')], [])"
   ]
  },
  {
   "cell_type": "code",
   "execution_count": 19,
   "metadata": {},
   "outputs": [],
   "source": [
    "ll = ll.transform(tfms)"
   ]
  },
  {
   "cell_type": "code",
   "execution_count": 20,
   "metadata": {},
   "outputs": [],
   "source": [
    "bs = 128"
   ]
  },
  {
   "cell_type": "code",
   "execution_count": 21,
   "metadata": {},
   "outputs": [],
   "source": [
    "# we don't normalize with imagenet stats because we're not using pretrained model\n",
    "data = ll.databunch(bs=bs).normalize()"
   ]
  },
  {
   "cell_type": "code",
   "execution_count": 22,
   "metadata": {},
   "outputs": [
    {
     "data": {
      "image/png": "[encoded data removed]",
      "text/plain": [
       "<Figure size 576x576 with 9 Axes>"
      ]
     },
     "metadata": {
      "needs_background": "light"
     },
     "output_type": "display_data"
    }
   ],
   "source": [
    "def _plot(i,j,ax): data.train_ds[0][0].show(ax, cmap='gray')\n",
    "plot_multi(_plot, 3, 3, figsize=(8,8))"
   ]
  },
  {
   "cell_type": "code",
   "execution_count": 23,
   "metadata": {},
   "outputs": [
    {
     "data": {
      "text/plain": [
       "(torch.Size([128, 1, 28, 28]), torch.Size([128]))"
      ]
     },
     "execution_count": 23,
     "metadata": {},
     "output_type": "execute_result"
    }
   ],
   "source": [
    "xb,yb = data.one_batch()\n",
    "xb.shape, yb.shape"
   ]
  },
  {
   "cell_type": "code",
   "execution_count": 24,
   "metadata": {},
   "outputs": [
    {
     "data": {
      "image/png": "[encoded data removed]",
      "text/plain": [
       "<Figure size 360x360 with 9 Axes>"
      ]
     },
     "metadata": {
      "needs_background": "light"
     },
     "output_type": "display_data"
    }
   ],
   "source": [
    "data.show_batch(rows=3, figsize=(5,5))"
   ]
  },
  {
   "cell_type": "code",
   "execution_count": 25,
   "metadata": {},
   "outputs": [],
   "source": [
    "?nn.Conv2d\n",
    "\n",
    "# in channels\n",
    "# out channels\n",
    "# kernel size\n",
    "# stride\n",
    "# padding"
   ]
  },
  {
   "cell_type": "code",
   "execution_count": 26,
   "metadata": {},
   "outputs": [],
   "source": [
    "# if we want to do something over and over again it'll be better to do it as a func\n",
    "def conv(ni, nf): return nn.Conv2d(ni, nf, kernel_size = 3, stride = 2, padding = 1)"
   ]
  },
  {
   "cell_type": "code",
   "execution_count": 27,
   "metadata": {},
   "outputs": [],
   "source": [
    "# conv(1,8)\n",
    "# 1 = in channels = flattened images\n",
    "# 8 = out channels = no of kernels\n",
    "# kernel size = 3\n",
    "# stride = 2, since stride is 2 we keep doubling the number of kernels\n",
    "\n",
    "model = nn.Sequential(\n",
    "        conv(1,8), # grid size 14 * 14\n",
    "        nn.BatchNorm2d(8),\n",
    "        nn.ReLU(),\n",
    "        conv(8,16), # grid size 7 * 7\n",
    "        nn.BatchNorm2d(16),\n",
    "        nn.ReLU(),\n",
    "        conv(16, 32), # grid size 4 * 4\n",
    "        nn.BatchNorm2d(32),\n",
    "        nn.ReLU(),\n",
    "        conv(32,16), # grid size 2 * 2\n",
    "        nn.BatchNorm2d(16),\n",
    "        nn.ReLU(),\n",
    "        conv(16,10), # grid size 1 * 1\n",
    "        nn.BatchNorm2d(10),\n",
    "        Flatten() # final output would be 10 * 1 * 1, flatten removes the (1,1)\n",
    "        )"
   ]
  },
  {
   "cell_type": "code",
   "execution_count": 28,
   "metadata": {},
   "outputs": [],
   "source": [
    "learn = Learner(data, model, loss_func = nn.CrossEntropyLoss(), metrics = accuracy)"
   ]
  },
  {
   "cell_type": "code",
   "execution_count": 29,
   "metadata": {},
   "outputs": [
    {
     "data": {
      "text/plain": [
       "Sequential\n",
       "======================================================================\n",
       "Layer (type)         Output Shape         Param #    Trainable \n",
       "======================================================================\n",
       "Conv2d               [8, 14, 14]          80         True      \n",
       "______________________________________________________________________\n",
       "BatchNorm2d          [8, 14, 14]          16         True      \n",
       "______________________________________________________________________\n",
       "ReLU                 [8, 14, 14]          0          False     \n",
       "______________________________________________________________________\n",
       "Conv2d               [16, 7, 7]           1,168      True      \n",
       "______________________________________________________________________\n",
       "BatchNorm2d          [16, 7, 7]           32         True      \n",
       "______________________________________________________________________\n",
       "ReLU                 [16, 7, 7]           0          False     \n",
       "______________________________________________________________________\n",
       "Conv2d               [32, 4, 4]           4,640      True      \n",
       "______________________________________________________________________\n",
       "BatchNorm2d          [32, 4, 4]           64         True      \n",
       "______________________________________________________________________\n",
       "ReLU                 [32, 4, 4]           0          False     \n",
       "______________________________________________________________________\n",
       "Conv2d               [16, 2, 2]           4,624      True      \n",
       "______________________________________________________________________\n",
       "BatchNorm2d          [16, 2, 2]           32         True      \n",
       "______________________________________________________________________\n",
       "ReLU                 [16, 2, 2]           0          False     \n",
       "______________________________________________________________________\n",
       "Conv2d               [10, 1, 1]           1,450      True      \n",
       "______________________________________________________________________\n",
       "BatchNorm2d          [10, 1, 1]           20         True      \n",
       "______________________________________________________________________\n",
       "Flatten              [10]                 0          False     \n",
       "______________________________________________________________________\n",
       "\n",
       "Total params: 12,126\n",
       "Total trainable params: 12,126\n",
       "Total non-trainable params: 0\n",
       "Optimized with 'torch.optim.adam.Adam', betas=(0.9, 0.99)\n",
       "Using true weight decay as discussed in https://www.fast.ai/2018/07/02/adam-weight-decay/ \n",
       "Loss function : CrossEntropyLoss\n",
       "======================================================================\n",
       "Callbacks functions applied "
      ]
     },
     "execution_count": 29,
     "metadata": {},
     "output_type": "execute_result"
    }
   ],
   "source": [
    "learn.summary()"
   ]
  },
  {
   "cell_type": "code",
   "execution_count": 30,
   "metadata": {},
   "outputs": [],
   "source": [
    "# put the mini batch on the gpu\n",
    "xb = xb.cuda()"
   ]
  },
  {
   "cell_type": "code",
   "execution_count": 31,
   "metadata": {},
   "outputs": [
    {
     "data": {
      "text/plain": [
       "torch.Size([128, 10])"
      ]
     },
     "execution_count": 31,
     "metadata": {},
     "output_type": "execute_result"
    }
   ],
   "source": [
    "# we can now use the model as a function\n",
    "model(xb).shape"
   ]
  },
  {
   "cell_type": "code",
   "execution_count": 32,
   "metadata": {},
   "outputs": [
    {
     "data": {
      "text/html": [],
      "text/plain": [
       "<IPython.core.display.HTML object>"
      ]
     },
     "metadata": {},
     "output_type": "display_data"
    },
    {
     "name": "stdout",
     "output_type": "stream",
     "text": [
      "LR Finder is complete, type {learner_name}.recorder.plot() to see the graph.\n"
     ]
    }
   ],
   "source": [
    "learn.lr_find(end_lr=100)"
   ]
  },
  {
   "cell_type": "code",
   "execution_count": 33,
   "metadata": {},
   "outputs": [
    {
     "data": {
      "image/png": "[encoded data removed]",
      "text/plain": [
       "<Figure size 432x288 with 1 Axes>"
      ]
     },
     "metadata": {
      "needs_background": "light"
     },
     "output_type": "display_data"
    }
   ],
   "source": [
    "learn.recorder.plot()"
   ]
  },
  {
   "cell_type": "code",
   "execution_count": 34,
   "metadata": {},
   "outputs": [
    {
     "data": {
      "text/html": [
       "<table border=\"1\" class=\"dataframe\">\n",
       "  <thead>\n",
       "    <tr style=\"text-align: left;\">\n",
       "      <th>epoch</th>\n",
       "      <th>train_loss</th>\n",
       "      <th>valid_loss</th>\n",
       "      <th>accuracy</th>\n",
       "      <th>time</th>\n",
       "    </tr>\n",
       "  </thead>\n",
       "  <tbody>\n",
       "    <tr>\n",
       "      <td>0</td>\n",
       "      <td>0.254699</td>\n",
       "      <td>0.308537</td>\n",
       "      <td>0.902900</td>\n",
       "      <td>00:32</td>\n",
       "    </tr>\n",
       "    <tr>\n",
       "      <td>1</td>\n",
       "      <td>0.137037</td>\n",
       "      <td>0.114005</td>\n",
       "      <td>0.963700</td>\n",
       "      <td>00:30</td>\n",
       "    </tr>\n",
       "    <tr>\n",
       "      <td>2</td>\n",
       "      <td>0.078402</td>\n",
       "      <td>0.042361</td>\n",
       "      <td>0.986800</td>\n",
       "      <td>00:30</td>\n",
       "    </tr>\n",
       "  </tbody>\n",
       "</table>"
      ],
      "text/plain": [
       "<IPython.core.display.HTML object>"
      ]
     },
     "metadata": {},
     "output_type": "display_data"
    }
   ],
   "source": [
    "learn.fit_one_cycle(3, max_lr=0.1)"
   ]
  },
  {
   "cell_type": "markdown",
   "metadata": {},
   "source": [
    "## Refactor"
   ]
  },
  {
   "cell_type": "code",
   "execution_count": 35,
   "metadata": {},
   "outputs": [],
   "source": [
    "def conv2(ni,nf): return conv_layer(ni,nf,stride=2)"
   ]
  },
  {
   "cell_type": "code",
   "execution_count": 36,
   "metadata": {},
   "outputs": [],
   "source": [
    "model = nn.Sequential(\n",
    "    conv2(1, 8),   # 14\n",
    "    conv2(8, 16),  # 7\n",
    "    conv2(16, 32), # 4\n",
    "    conv2(32, 16), # 2\n",
    "    conv2(16, 10), # 1\n",
    "    Flatten()      # remove (1,1) grid\n",
    ")"
   ]
  },
  {
   "cell_type": "code",
   "execution_count": 37,
   "metadata": {},
   "outputs": [],
   "source": [
    "learn = Learner(data, model, loss_func = nn.CrossEntropyLoss(), metrics=accuracy)"
   ]
  },
  {
   "cell_type": "code",
   "execution_count": 38,
   "metadata": {},
   "outputs": [
    {
     "data": {
      "text/html": [
       "<table border=\"1\" class=\"dataframe\">\n",
       "  <thead>\n",
       "    <tr style=\"text-align: left;\">\n",
       "      <th>epoch</th>\n",
       "      <th>train_loss</th>\n",
       "      <th>valid_loss</th>\n",
       "      <th>accuracy</th>\n",
       "      <th>time</th>\n",
       "    </tr>\n",
       "  </thead>\n",
       "  <tbody>\n",
       "    <tr>\n",
       "      <td>0</td>\n",
       "      <td>0.231589</td>\n",
       "      <td>0.196443</td>\n",
       "      <td>0.938000</td>\n",
       "      <td>00:29</td>\n",
       "    </tr>\n",
       "    <tr>\n",
       "      <td>1</td>\n",
       "      <td>0.200227</td>\n",
       "      <td>0.220248</td>\n",
       "      <td>0.936100</td>\n",
       "      <td>00:28</td>\n",
       "    </tr>\n",
       "    <tr>\n",
       "      <td>2</td>\n",
       "      <td>0.162766</td>\n",
       "      <td>0.085390</td>\n",
       "      <td>0.972400</td>\n",
       "      <td>00:28</td>\n",
       "    </tr>\n",
       "    <tr>\n",
       "      <td>3</td>\n",
       "      <td>0.143742</td>\n",
       "      <td>0.210946</td>\n",
       "      <td>0.931700</td>\n",
       "      <td>00:28</td>\n",
       "    </tr>\n",
       "    <tr>\n",
       "      <td>4</td>\n",
       "      <td>0.122877</td>\n",
       "      <td>0.086052</td>\n",
       "      <td>0.973700</td>\n",
       "      <td>00:28</td>\n",
       "    </tr>\n",
       "    <tr>\n",
       "      <td>5</td>\n",
       "      <td>0.094019</td>\n",
       "      <td>0.067030</td>\n",
       "      <td>0.979900</td>\n",
       "      <td>00:28</td>\n",
       "    </tr>\n",
       "    <tr>\n",
       "      <td>6</td>\n",
       "      <td>0.087904</td>\n",
       "      <td>0.068200</td>\n",
       "      <td>0.979500</td>\n",
       "      <td>00:28</td>\n",
       "    </tr>\n",
       "    <tr>\n",
       "      <td>7</td>\n",
       "      <td>0.072469</td>\n",
       "      <td>0.040435</td>\n",
       "      <td>0.987700</td>\n",
       "      <td>00:28</td>\n",
       "    </tr>\n",
       "    <tr>\n",
       "      <td>8</td>\n",
       "      <td>0.054215</td>\n",
       "      <td>0.029126</td>\n",
       "      <td>0.990700</td>\n",
       "      <td>00:28</td>\n",
       "    </tr>\n",
       "    <tr>\n",
       "      <td>9</td>\n",
       "      <td>0.046315</td>\n",
       "      <td>0.027801</td>\n",
       "      <td>0.991400</td>\n",
       "      <td>00:28</td>\n",
       "    </tr>\n",
       "  </tbody>\n",
       "</table>"
      ],
      "text/plain": [
       "<IPython.core.display.HTML object>"
      ]
     },
     "metadata": {},
     "output_type": "display_data"
    }
   ],
   "source": [
    "learn.fit_one_cycle(10, max_lr=0.1)"
   ]
  },
  {
   "cell_type": "markdown",
   "metadata": {},
   "source": [
    "## ResNet - ish\n",
    "\n",
    "If we want to make our current network dense we can do so by adding a bunch of stride 1 convolutions in between because they don't change the size of the grid. But researchers have tried this and reported the results in [this paper](https://arxiv.org/abs/1512.03385). They found that a 56 layer network with stride 1 convs in between did not work better (did not overfit) than a 20 layer network with just stride 2 convs. In fact it did worse.\n",
    "\n",
    "-- insert image\n",
    "\n",
    "What they did then was to try and convert the 56 layer network into something as good as the 20 layer one. For every two convolutions, they add the input of the conv with the output of the 2 convs. So instead of:\n",
    "\n",
    "`output = conv2(conv1(x))`\n",
    "\n",
    "we do\n",
    "\n",
    "`output = x + conv2(conv1(x))`"
   ]
  },
  {
   "cell_type": "code",
   "execution_count": 39,
   "metadata": {},
   "outputs": [],
   "source": [
    "from fastai.layers import *"
   ]
  },
  {
   "cell_type": "code",
   "execution_count": 40,
   "metadata": {},
   "outputs": [],
   "source": [
    "class ResBlock(nn.Module):\n",
    "    def __init__(self, nf):\n",
    "        super().__init__()\n",
    "        self.conv1 = conv_layer(nf,nf)\n",
    "        self.conv2 = conv_layer(nf,nf)\n",
    "        \n",
    "    def forward(self, x): return x + self.conv2(self.conv1(x))"
   ]
  },
  {
   "cell_type": "code",
   "execution_count": 41,
   "metadata": {},
   "outputs": [],
   "source": [
    "model = nn.Sequential(\n",
    "    conv2(1, 8),\n",
    "    res_block(8),\n",
    "    conv2(8, 16),\n",
    "    res_block(16),\n",
    "    conv2(16, 32),\n",
    "    res_block(32),\n",
    "    conv2(32, 16),\n",
    "    res_block(16),\n",
    "    conv2(16, 10),\n",
    "    Flatten()\n",
    ")"
   ]
  },
  {
   "cell_type": "code",
   "execution_count": 42,
   "metadata": {},
   "outputs": [],
   "source": [
    "def conv_and_res(ni,nf): return nn.Sequential(conv2(ni, nf), res_block(nf))"
   ]
  },
  {
   "cell_type": "code",
   "execution_count": 43,
   "metadata": {},
   "outputs": [],
   "source": [
    "model = nn.Sequential(\n",
    "    conv_and_res(1, 8),\n",
    "    conv_and_res(8, 16),\n",
    "    conv_and_res(16, 32),\n",
    "    conv_and_res(32, 16),\n",
    "    conv2(16, 10),\n",
    "    Flatten()\n",
    ")"
   ]
  },
  {
   "cell_type": "code",
   "execution_count": 44,
   "metadata": {},
   "outputs": [],
   "source": [
    "learn = Learner(data, model, loss_func = nn.CrossEntropyLoss(), metrics=accuracy)"
   ]
  },
  {
   "cell_type": "code",
   "execution_count": 45,
   "metadata": {},
   "outputs": [
    {
     "data": {
      "text/html": [],
      "text/plain": [
       "<IPython.core.display.HTML object>"
      ]
     },
     "metadata": {},
     "output_type": "display_data"
    },
    {
     "name": "stdout",
     "output_type": "stream",
     "text": [
      "LR Finder is complete, type {learner_name}.recorder.plot() to see the graph.\n"
     ]
    },
    {
     "data": {
      "image/png": "[encoded data removed]",
      "text/plain": [
       "<Figure size 432x288 with 1 Axes>"
      ]
     },
     "metadata": {
      "needs_background": "light"
     },
     "output_type": "display_data"
    }
   ],
   "source": [
    "learn.lr_find(end_lr=100)\n",
    "learn.recorder.plot()"
   ]
  },
  {
   "cell_type": "code",
   "execution_count": 46,
   "metadata": {},
   "outputs": [
    {
     "data": {
      "text/html": [
       "<table border=\"1\" class=\"dataframe\">\n",
       "  <thead>\n",
       "    <tr style=\"text-align: left;\">\n",
       "      <th>epoch</th>\n",
       "      <th>train_loss</th>\n",
       "      <th>valid_loss</th>\n",
       "      <th>accuracy</th>\n",
       "      <th>time</th>\n",
       "    </tr>\n",
       "  </thead>\n",
       "  <tbody>\n",
       "    <tr>\n",
       "      <td>0</td>\n",
       "      <td>0.258279</td>\n",
       "      <td>0.193537</td>\n",
       "      <td>0.944200</td>\n",
       "      <td>00:32</td>\n",
       "    </tr>\n",
       "    <tr>\n",
       "      <td>1</td>\n",
       "      <td>0.130323</td>\n",
       "      <td>0.135954</td>\n",
       "      <td>0.955900</td>\n",
       "      <td>00:32</td>\n",
       "    </tr>\n",
       "    <tr>\n",
       "      <td>2</td>\n",
       "      <td>0.096199</td>\n",
       "      <td>0.138355</td>\n",
       "      <td>0.954700</td>\n",
       "      <td>00:32</td>\n",
       "    </tr>\n",
       "    <tr>\n",
       "      <td>3</td>\n",
       "      <td>0.080895</td>\n",
       "      <td>0.062652</td>\n",
       "      <td>0.980900</td>\n",
       "      <td>00:32</td>\n",
       "    </tr>\n",
       "    <tr>\n",
       "      <td>4</td>\n",
       "      <td>0.079793</td>\n",
       "      <td>0.093072</td>\n",
       "      <td>0.971600</td>\n",
       "      <td>00:32</td>\n",
       "    </tr>\n",
       "    <tr>\n",
       "      <td>5</td>\n",
       "      <td>0.067633</td>\n",
       "      <td>0.060408</td>\n",
       "      <td>0.981000</td>\n",
       "      <td>00:32</td>\n",
       "    </tr>\n",
       "    <tr>\n",
       "      <td>6</td>\n",
       "      <td>0.057093</td>\n",
       "      <td>0.032065</td>\n",
       "      <td>0.990600</td>\n",
       "      <td>00:32</td>\n",
       "    </tr>\n",
       "    <tr>\n",
       "      <td>7</td>\n",
       "      <td>0.044021</td>\n",
       "      <td>0.034554</td>\n",
       "      <td>0.989000</td>\n",
       "      <td>00:32</td>\n",
       "    </tr>\n",
       "    <tr>\n",
       "      <td>8</td>\n",
       "      <td>0.032127</td>\n",
       "      <td>0.026078</td>\n",
       "      <td>0.991200</td>\n",
       "      <td>00:31</td>\n",
       "    </tr>\n",
       "    <tr>\n",
       "      <td>9</td>\n",
       "      <td>0.028238</td>\n",
       "      <td>0.019349</td>\n",
       "      <td>0.993600</td>\n",
       "      <td>00:32</td>\n",
       "    </tr>\n",
       "    <tr>\n",
       "      <td>10</td>\n",
       "      <td>0.019979</td>\n",
       "      <td>0.017100</td>\n",
       "      <td>0.994500</td>\n",
       "      <td>00:32</td>\n",
       "    </tr>\n",
       "    <tr>\n",
       "      <td>11</td>\n",
       "      <td>0.017837</td>\n",
       "      <td>0.016861</td>\n",
       "      <td>0.994400</td>\n",
       "      <td>00:31</td>\n",
       "    </tr>\n",
       "  </tbody>\n",
       "</table>"
      ],
      "text/plain": [
       "<IPython.core.display.HTML object>"
      ]
     },
     "metadata": {},
     "output_type": "display_data"
    }
   ],
   "source": [
    "learn.fit_one_cycle(12, max_lr=0.05)"
   ]
  },
  {
   "cell_type": "code",
   "execution_count": 47,
   "metadata": {},
   "outputs": [
    {
     "data": {
      "text/plain": [
       "Sequential\n",
       "======================================================================\n",
       "Layer (type)         Output Shape         Param #    Trainable \n",
       "======================================================================\n",
       "Conv2d               [8, 14, 14]          72         True      \n",
       "______________________________________________________________________\n",
       "ReLU                 [8, 14, 14]          0          False     \n",
       "______________________________________________________________________\n",
       "BatchNorm2d          [8, 14, 14]          16         True      \n",
       "______________________________________________________________________\n",
       "Conv2d               [8, 14, 14]          576        True      \n",
       "______________________________________________________________________\n",
       "ReLU                 [8, 14, 14]          0          False     \n",
       "______________________________________________________________________\n",
       "BatchNorm2d          [8, 14, 14]          16         True      \n",
       "______________________________________________________________________\n",
       "Conv2d               [8, 14, 14]          576        True      \n",
       "______________________________________________________________________\n",
       "ReLU                 [8, 14, 14]          0          False     \n",
       "______________________________________________________________________\n",
       "BatchNorm2d          [8, 14, 14]          16         True      \n",
       "______________________________________________________________________\n",
       "MergeLayer           [8, 14, 14]          0          False     \n",
       "______________________________________________________________________\n",
       "Conv2d               [16, 7, 7]           1,152      True      \n",
       "______________________________________________________________________\n",
       "ReLU                 [16, 7, 7]           0          False     \n",
       "______________________________________________________________________\n",
       "BatchNorm2d          [16, 7, 7]           32         True      \n",
       "______________________________________________________________________\n",
       "Conv2d               [16, 7, 7]           2,304      True      \n",
       "______________________________________________________________________\n",
       "ReLU                 [16, 7, 7]           0          False     \n",
       "______________________________________________________________________\n",
       "BatchNorm2d          [16, 7, 7]           32         True      \n",
       "______________________________________________________________________\n",
       "Conv2d               [16, 7, 7]           2,304      True      \n",
       "______________________________________________________________________\n",
       "ReLU                 [16, 7, 7]           0          False     \n",
       "______________________________________________________________________\n",
       "BatchNorm2d          [16, 7, 7]           32         True      \n",
       "______________________________________________________________________\n",
       "MergeLayer           [16, 7, 7]           0          False     \n",
       "______________________________________________________________________\n",
       "Conv2d               [32, 4, 4]           4,608      True      \n",
       "______________________________________________________________________\n",
       "ReLU                 [32, 4, 4]           0          False     \n",
       "______________________________________________________________________\n",
       "BatchNorm2d          [32, 4, 4]           64         True      \n",
       "______________________________________________________________________\n",
       "Conv2d               [32, 4, 4]           9,216      True      \n",
       "______________________________________________________________________\n",
       "ReLU                 [32, 4, 4]           0          False     \n",
       "______________________________________________________________________\n",
       "BatchNorm2d          [32, 4, 4]           64         True      \n",
       "______________________________________________________________________\n",
       "Conv2d               [32, 4, 4]           9,216      True      \n",
       "______________________________________________________________________\n",
       "ReLU                 [32, 4, 4]           0          False     \n",
       "______________________________________________________________________\n",
       "BatchNorm2d          [32, 4, 4]           64         True      \n",
       "______________________________________________________________________\n",
       "MergeLayer           [32, 4, 4]           0          False     \n",
       "______________________________________________________________________\n",
       "Conv2d               [16, 2, 2]           4,608      True      \n",
       "______________________________________________________________________\n",
       "ReLU                 [16, 2, 2]           0          False     \n",
       "______________________________________________________________________\n",
       "BatchNorm2d          [16, 2, 2]           32         True      \n",
       "______________________________________________________________________\n",
       "Conv2d               [16, 2, 2]           2,304      True      \n",
       "______________________________________________________________________\n",
       "ReLU                 [16, 2, 2]           0          False     \n",
       "______________________________________________________________________\n",
       "BatchNorm2d          [16, 2, 2]           32         True      \n",
       "______________________________________________________________________\n",
       "Conv2d               [16, 2, 2]           2,304      True      \n",
       "______________________________________________________________________\n",
       "ReLU                 [16, 2, 2]           0          False     \n",
       "______________________________________________________________________\n",
       "BatchNorm2d          [16, 2, 2]           32         True      \n",
       "______________________________________________________________________\n",
       "MergeLayer           [16, 2, 2]           0          False     \n",
       "______________________________________________________________________\n",
       "Conv2d               [10, 1, 1]           1,440      True      \n",
       "______________________________________________________________________\n",
       "ReLU                 [10, 1, 1]           0          False     \n",
       "______________________________________________________________________\n",
       "BatchNorm2d          [10, 1, 1]           20         True      \n",
       "______________________________________________________________________\n",
       "Flatten              [10]                 0          False     \n",
       "______________________________________________________________________\n",
       "\n",
       "Total params: 41,132\n",
       "Total trainable params: 41,132\n",
       "Total non-trainable params: 0\n",
       "Optimized with 'torch.optim.adam.Adam', betas=(0.9, 0.99)\n",
       "Using true weight decay as discussed in https://www.fast.ai/2018/07/02/adam-weight-decay/ \n",
       "Loss function : CrossEntropyLoss\n",
       "======================================================================\n",
       "Callbacks functions applied "
      ]
     },
     "execution_count": 47,
     "metadata": {},
     "output_type": "execute_result"
    }
   ],
   "source": [
    "learn.summary()"
   ]
  },
  {
   "cell_type": "markdown",
   "metadata": {},
   "source": [
    "## Dense net\n",
    "\n",
    "If we set `dense = True` in resblock then we get a dense net. In dense net instead of adding the i/p we concatenate it with the output of the 2 conv layers."
   ]
  },
  {
   "cell_type": "code",
   "execution_count": null,
   "metadata": {},
   "outputs": [],
   "source": []
  }
 ],
 "metadata": {
  "kernelspec": {
   "display_name": "Python 3",
   "language": "python",
   "name": "python3"
  },
  "language_info": {
   "codemirror_mode": {
    "name": "ipython",
    "version": 3
   },
   "file_extension": ".py",
   "mimetype": "text/x-python",
   "name": "python",
   "nbconvert_exporter": "python",
   "pygments_lexer": "ipython3",
   "version": "3.6.6"
  }
 },
 "nbformat": 4,
 "nbformat_minor": 1
}
